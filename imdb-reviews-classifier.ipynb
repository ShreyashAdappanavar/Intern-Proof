{
 "cells": [
  {
   "cell_type": "code",
   "execution_count": null,
   "metadata": {
    "_cell_guid": "b1076dfc-b9ad-4769-8c92-a6c4dae69d19",
    "_uuid": "8f2839f25d086af736a60e9eeb907d3b93b6e0e5",
    "execution": {
     "iopub.execute_input": "2021-09-05T08:44:21.554150Z",
     "iopub.status.busy": "2021-09-05T08:44:21.553695Z",
     "iopub.status.idle": "2021-09-05T08:44:21.573429Z",
     "shell.execute_reply": "2021-09-05T08:44:21.572652Z",
     "shell.execute_reply.started": "2021-09-05T08:44:21.554043Z"
    }
   },
   "outputs": [],
   "source": [
    "#importing libraries\n",
    "\n",
    "import numpy as np \n",
    "import pandas as pd \n",
    "\n",
    "\n",
    "import os\n",
    "for dirname, _, filenames in os.walk('/kaggle/input'):\n",
    "    for filename in filenames:\n",
    "        print(os.path.join(dirname, filename))"
   ]
  },
  {
   "cell_type": "code",
   "execution_count": null,
   "metadata": {
    "execution": {
     "iopub.execute_input": "2021-09-05T08:44:21.575046Z",
     "iopub.status.busy": "2021-09-05T08:44:21.574613Z",
     "iopub.status.idle": "2021-09-05T08:44:23.214486Z",
     "shell.execute_reply": "2021-09-05T08:44:23.213568Z",
     "shell.execute_reply.started": "2021-09-05T08:44:21.575010Z"
    }
   },
   "outputs": [],
   "source": [
    "from sklearn.feature_extraction.text import TfidfVectorizer\n",
    "from sklearn.naive_bayes import MultinomialNB\n",
    "from sklearn import metrics\n",
    "\n",
    "import nltk\n",
    "import re\n",
    "import string\n",
    "from nltk.stem import WordNetLemmatizer"
   ]
  },
  {
   "cell_type": "code",
   "execution_count": null,
   "metadata": {
    "execution": {
     "iopub.execute_input": "2021-09-05T08:44:23.216558Z",
     "iopub.status.busy": "2021-09-05T08:44:23.216254Z",
     "iopub.status.idle": "2021-09-05T08:44:25.014775Z",
     "shell.execute_reply": "2021-09-05T08:44:25.013791Z",
     "shell.execute_reply.started": "2021-09-05T08:44:23.216528Z"
    }
   },
   "outputs": [],
   "source": [
    "#reading the data\n",
    "\n",
    "test_csv = pd.read_csv('/kaggle/input/imdb-movie-reviews-dataset/test_data (1).csv') \n",
    "train_csv = pd.read_csv('/kaggle/input/imdb-movie-reviews-dataset/train_data (1).csv') "
   ]
  },
  {
   "cell_type": "code",
   "execution_count": null,
   "metadata": {
    "execution": {
     "iopub.execute_input": "2021-09-05T08:44:25.016519Z",
     "iopub.status.busy": "2021-09-05T08:44:25.016231Z",
     "iopub.status.idle": "2021-09-05T08:44:25.029978Z",
     "shell.execute_reply": "2021-09-05T08:44:25.028730Z",
     "shell.execute_reply.started": "2021-09-05T08:44:25.016491Z"
    }
   },
   "outputs": [],
   "source": [
    "#stopword removal and lemmatization\n",
    "\n",
    "stopwords = nltk.corpus.stopwords.words('english')\n",
    "lemmatizer = WordNetLemmatizer()"
   ]
  },
  {
   "cell_type": "code",
   "execution_count": null,
   "metadata": {
    "execution": {
     "iopub.execute_input": "2021-09-05T08:44:25.031979Z",
     "iopub.status.busy": "2021-09-05T08:44:25.031547Z",
     "iopub.status.idle": "2021-09-05T08:44:25.170420Z",
     "shell.execute_reply": "2021-09-05T08:44:25.169609Z",
     "shell.execute_reply.started": "2021-09-05T08:44:25.031875Z"
    }
   },
   "outputs": [],
   "source": [
    "# Preprocessing\n",
    "nltk.download('stopwords')"
   ]
  },
  {
   "cell_type": "code",
   "execution_count": null,
   "metadata": {
    "execution": {
     "iopub.execute_input": "2021-09-05T08:44:25.171867Z",
     "iopub.status.busy": "2021-09-05T08:44:25.171441Z",
     "iopub.status.idle": "2021-09-05T08:44:25.195420Z",
     "shell.execute_reply": "2021-09-05T08:44:25.194318Z",
     "shell.execute_reply.started": "2021-09-05T08:44:25.171825Z"
    }
   },
   "outputs": [],
   "source": [
    "train_csv.head()"
   ]
  },
  {
   "cell_type": "code",
   "execution_count": null,
   "metadata": {
    "execution": {
     "iopub.execute_input": "2021-09-05T08:44:25.197107Z",
     "iopub.status.busy": "2021-09-05T08:44:25.196770Z",
     "iopub.status.idle": "2021-09-05T08:44:25.204444Z",
     "shell.execute_reply": "2021-09-05T08:44:25.203329Z",
     "shell.execute_reply.started": "2021-09-05T08:44:25.197075Z"
    }
   },
   "outputs": [],
   "source": [
    "train_X_non = train_csv['0']   # '0' refers to the review text\n",
    "train_y = train_csv['1']   # '1' corresponds to Label (1 - positive and 0 - negative)\n",
    "test_X_non = test_csv['0']\n",
    "test_y = test_csv['1']\n",
    "\n",
    "train_X=[]\n",
    "test_X=[]"
   ]
  },
  {
   "cell_type": "markdown",
   "metadata": {},
   "source": [
    "# Text Pre Processing"
   ]
  },
  {
   "cell_type": "code",
   "execution_count": null,
   "metadata": {
    "execution": {
     "iopub.execute_input": "2021-09-05T08:44:25.207847Z",
     "iopub.status.busy": "2021-09-05T08:44:25.207399Z",
     "iopub.status.idle": "2021-09-05T08:45:06.667737Z",
     "shell.execute_reply": "2021-09-05T08:45:06.666713Z",
     "shell.execute_reply.started": "2021-09-05T08:44:25.207783Z"
    }
   },
   "outputs": [],
   "source": [
    "#text pre processing\n",
    "\n",
    "for i in range(0, len(train_X_non)):\n",
    "    review = re.sub('[^a-zA-Z]', ' ', train_X_non[i])\n",
    "    review = review.lower()\n",
    "    review = review.split()\n",
    "    review = [lemmatizer.lemmatize(word) for word in review if not word in set(stopwords)]\n",
    "    review = ' '.join(review)\n",
    "    train_X.append(review)"
   ]
  },
  {
   "cell_type": "code",
   "execution_count": null,
   "metadata": {
    "execution": {
     "iopub.execute_input": "2021-09-05T08:45:06.669843Z",
     "iopub.status.busy": "2021-09-05T08:45:06.669517Z",
     "iopub.status.idle": "2021-09-05T08:45:45.256075Z",
     "shell.execute_reply": "2021-09-05T08:45:45.255066Z",
     "shell.execute_reply.started": "2021-09-05T08:45:06.669797Z"
    }
   },
   "outputs": [],
   "source": [
    "#text pre processing\n",
    "\n",
    "for i in range(0, len(test_X_non)):\n",
    "    review = re.sub('[^a-zA-Z]', ' ', test_X_non[i])\n",
    "    review = review.lower()\n",
    "    review = review.split()\n",
    "    review = [lemmatizer.lemmatize(word) for word in review if not word in set(stopwords)]\n",
    "    review = ' '.join(review)\n",
    "    test_X.append(review)"
   ]
  },
  {
   "cell_type": "code",
   "execution_count": null,
   "metadata": {
    "execution": {
     "iopub.execute_input": "2021-09-05T08:45:45.258385Z",
     "iopub.status.busy": "2021-09-05T08:45:45.257967Z",
     "iopub.status.idle": "2021-09-05T08:45:45.264106Z",
     "shell.execute_reply": "2021-09-05T08:45:45.263401Z",
     "shell.execute_reply.started": "2021-09-05T08:45:45.258338Z"
    }
   },
   "outputs": [],
   "source": [
    "train_X[10]"
   ]
  },
  {
   "cell_type": "code",
   "execution_count": null,
   "metadata": {
    "execution": {
     "iopub.execute_input": "2021-09-05T08:45:45.265440Z",
     "iopub.status.busy": "2021-09-05T08:45:45.265120Z",
     "iopub.status.idle": "2021-09-05T08:45:45.280026Z",
     "shell.execute_reply": "2021-09-05T08:45:45.278846Z",
     "shell.execute_reply.started": "2021-09-05T08:45:45.265410Z"
    }
   },
   "outputs": [],
   "source": [
    "test_X[10]"
   ]
  },
  {
   "cell_type": "code",
   "execution_count": null,
   "metadata": {
    "execution": {
     "iopub.execute_input": "2021-09-05T08:45:45.281647Z",
     "iopub.status.busy": "2021-09-05T08:45:45.281337Z",
     "iopub.status.idle": "2021-09-05T08:45:45.291868Z",
     "shell.execute_reply": "2021-09-05T08:45:45.290718Z",
     "shell.execute_reply.started": "2021-09-05T08:45:45.281620Z"
    }
   },
   "outputs": [],
   "source": [
    "#tf idf\n",
    "\n",
    "tf_idf = TfidfVectorizer()"
   ]
  },
  {
   "cell_type": "code",
   "execution_count": null,
   "metadata": {
    "execution": {
     "iopub.execute_input": "2021-09-05T08:45:45.293550Z",
     "iopub.status.busy": "2021-09-05T08:45:45.293253Z",
     "iopub.status.idle": "2021-09-05T08:45:49.500541Z",
     "shell.execute_reply": "2021-09-05T08:45:49.499446Z",
     "shell.execute_reply.started": "2021-09-05T08:45:45.293522Z"
    }
   },
   "outputs": [],
   "source": [
    "#applying tf idf to training data\n",
    "\n",
    "X_train_tf = tf_idf.fit_transform(train_X)"
   ]
  },
  {
   "cell_type": "code",
   "execution_count": null,
   "metadata": {
    "execution": {
     "iopub.execute_input": "2021-09-05T08:45:49.502032Z",
     "iopub.status.busy": "2021-09-05T08:45:49.501708Z",
     "iopub.status.idle": "2021-09-05T08:45:53.427082Z",
     "shell.execute_reply": "2021-09-05T08:45:53.426056Z",
     "shell.execute_reply.started": "2021-09-05T08:45:49.502002Z"
    }
   },
   "outputs": [],
   "source": [
    "#applying tf idf to training data\n",
    "\n",
    "X_train_tf = tf_idf.transform(train_X)"
   ]
  },
  {
   "cell_type": "code",
   "execution_count": null,
   "metadata": {
    "execution": {
     "iopub.execute_input": "2021-09-05T08:45:53.429230Z",
     "iopub.status.busy": "2021-09-05T08:45:53.428783Z",
     "iopub.status.idle": "2021-09-05T08:45:53.434751Z",
     "shell.execute_reply": "2021-09-05T08:45:53.433644Z",
     "shell.execute_reply.started": "2021-09-05T08:45:53.429184Z"
    }
   },
   "outputs": [],
   "source": [
    "print(\"n_samples: %d, n_features: %d\" % X_train_tf.shape)"
   ]
  },
  {
   "cell_type": "code",
   "execution_count": null,
   "metadata": {
    "execution": {
     "iopub.execute_input": "2021-09-05T08:45:53.436744Z",
     "iopub.status.busy": "2021-09-05T08:45:53.436188Z",
     "iopub.status.idle": "2021-09-05T08:45:57.330457Z",
     "shell.execute_reply": "2021-09-05T08:45:57.329431Z",
     "shell.execute_reply.started": "2021-09-05T08:45:53.436700Z"
    }
   },
   "outputs": [],
   "source": [
    "#transforming test data into tf-idf matrix\n",
    "\n",
    "X_test_tf = tf_idf.transform(test_X)"
   ]
  },
  {
   "cell_type": "code",
   "execution_count": null,
   "metadata": {
    "execution": {
     "iopub.execute_input": "2021-09-05T08:45:57.332181Z",
     "iopub.status.busy": "2021-09-05T08:45:57.331803Z",
     "iopub.status.idle": "2021-09-05T08:45:57.338205Z",
     "shell.execute_reply": "2021-09-05T08:45:57.337091Z",
     "shell.execute_reply.started": "2021-09-05T08:45:57.332139Z"
    }
   },
   "outputs": [],
   "source": [
    "print(\"n_samples: %d, n_features: %d\" % X_test_tf.shape)"
   ]
  },
  {
   "cell_type": "markdown",
   "metadata": {},
   "source": [
    "# Model Creation"
   ]
  },
  {
   "cell_type": "code",
   "execution_count": null,
   "metadata": {
    "execution": {
     "iopub.execute_input": "2021-09-05T08:45:57.340646Z",
     "iopub.status.busy": "2021-09-05T08:45:57.340205Z",
     "iopub.status.idle": "2021-09-05T08:45:57.395306Z",
     "shell.execute_reply": "2021-09-05T08:45:57.394351Z",
     "shell.execute_reply.started": "2021-09-05T08:45:57.340597Z"
    }
   },
   "outputs": [],
   "source": [
    "#naive bayes classifier\n",
    "\n",
    "naive_bayes_classifier = MultinomialNB()\n",
    "naive_bayes_classifier.fit(X_train_tf, train_y)"
   ]
  },
  {
   "cell_type": "code",
   "execution_count": null,
   "metadata": {
    "execution": {
     "iopub.execute_input": "2021-09-05T08:45:57.397617Z",
     "iopub.status.busy": "2021-09-05T08:45:57.397195Z",
     "iopub.status.idle": "2021-09-05T08:45:57.422249Z",
     "shell.execute_reply": "2021-09-05T08:45:57.421097Z",
     "shell.execute_reply.started": "2021-09-05T08:45:57.397572Z"
    }
   },
   "outputs": [],
   "source": [
    "#predicted y\n",
    "\n",
    "y_pred = naive_bayes_classifier.predict(X_test_tf)"
   ]
  },
  {
   "cell_type": "code",
   "execution_count": null,
   "metadata": {
    "execution": {
     "iopub.execute_input": "2021-09-05T08:45:57.424980Z",
     "iopub.status.busy": "2021-09-05T08:45:57.424633Z",
     "iopub.status.idle": "2021-09-05T08:45:57.485718Z",
     "shell.execute_reply": "2021-09-05T08:45:57.484478Z",
     "shell.execute_reply.started": "2021-09-05T08:45:57.424947Z"
    }
   },
   "outputs": [],
   "source": [
    "print(metrics.classification_report(test_y, y_pred,\n",
    "                                            target_names=['Positive', 'Negative']))"
   ]
  },
  {
   "cell_type": "code",
   "execution_count": null,
   "metadata": {
    "execution": {
     "iopub.execute_input": "2021-09-05T08:45:57.494842Z",
     "iopub.status.busy": "2021-09-05T08:45:57.494371Z",
     "iopub.status.idle": "2021-09-05T08:45:57.543136Z",
     "shell.execute_reply": "2021-09-05T08:45:57.542159Z",
     "shell.execute_reply.started": "2021-09-05T08:45:57.494781Z"
    }
   },
   "outputs": [],
   "source": [
    "print(\"Confusion matrix:\")\n",
    "print(metrics.confusion_matrix(test_y, y_pred))"
   ]
  },
  {
   "cell_type": "markdown",
   "metadata": {},
   "source": [
    "# Doing a Test Prediction"
   ]
  },
  {
   "cell_type": "code",
   "execution_count": null,
   "metadata": {
    "execution": {
     "iopub.execute_input": "2021-09-05T08:45:57.544792Z",
     "iopub.status.busy": "2021-09-05T08:45:57.544488Z",
     "iopub.status.idle": "2021-09-05T08:45:57.548940Z",
     "shell.execute_reply": "2021-09-05T08:45:57.548004Z",
     "shell.execute_reply.started": "2021-09-05T08:45:57.544761Z"
    }
   },
   "outputs": [],
   "source": [
    "\n",
    "#doing a test prediction\n",
    "\n",
    "test = [\"This is unlike any kind of adventure movie my eyes have ever seen in such a long time, the characters, the musical score for every scene, the story, the beauty of the landscapes of Pandora, the rich variety and uniqueness of the flora and fauna of Pandora, the ways and cultures and language of the natives of Pandora, everything about this movie I am beyond impressed and truly captivated by. Sam Worthington is by far my favorite actor in this movie along with his character Jake Sulley, just as he was a very inspiring actor in The Shack Sam Worthington once again makes an unbelievable mark in one of the greatest and most captivating movies you'll ever see. \"]"
   ]
  },
  {
   "cell_type": "code",
   "execution_count": null,
   "metadata": {
    "execution": {
     "iopub.execute_input": "2021-09-05T08:45:57.551931Z",
     "iopub.status.busy": "2021-09-05T08:45:57.551619Z",
     "iopub.status.idle": "2021-09-05T08:45:57.563262Z",
     "shell.execute_reply": "2021-09-05T08:45:57.561953Z",
     "shell.execute_reply.started": "2021-09-05T08:45:57.551899Z"
    }
   },
   "outputs": [],
   "source": [
    "review = re.sub('[^a-zA-Z]', ' ', test[0])\n",
    "review = review.lower()\n",
    "review = review.split()\n",
    "review = [lemmatizer.lemmatize(word) for word in review if not word in set(stopwords)]\n",
    "test_processed =[ ' '.join(review)]\n"
   ]
  },
  {
   "cell_type": "code",
   "execution_count": null,
   "metadata": {
    "execution": {
     "iopub.execute_input": "2021-09-05T08:45:57.565103Z",
     "iopub.status.busy": "2021-09-05T08:45:57.564773Z",
     "iopub.status.idle": "2021-09-05T08:45:57.577310Z",
     "shell.execute_reply": "2021-09-05T08:45:57.576077Z",
     "shell.execute_reply.started": "2021-09-05T08:45:57.565071Z"
    }
   },
   "outputs": [],
   "source": [
    "test_processed"
   ]
  },
  {
   "cell_type": "code",
   "execution_count": null,
   "metadata": {
    "execution": {
     "iopub.execute_input": "2021-09-05T08:45:57.578791Z",
     "iopub.status.busy": "2021-09-05T08:45:57.578491Z",
     "iopub.status.idle": "2021-09-05T08:45:57.590542Z",
     "shell.execute_reply": "2021-09-05T08:45:57.589312Z",
     "shell.execute_reply.started": "2021-09-05T08:45:57.578764Z"
    }
   },
   "outputs": [],
   "source": [
    "test_input = tf_idf.transform(test_processed)"
   ]
  },
  {
   "cell_type": "code",
   "execution_count": null,
   "metadata": {
    "execution": {
     "iopub.execute_input": "2021-09-05T08:45:57.592541Z",
     "iopub.status.busy": "2021-09-05T08:45:57.592224Z",
     "iopub.status.idle": "2021-09-05T08:45:57.606691Z",
     "shell.execute_reply": "2021-09-05T08:45:57.604291Z",
     "shell.execute_reply.started": "2021-09-05T08:45:57.592513Z"
    }
   },
   "outputs": [],
   "source": [
    "test_input.shape"
   ]
  },
  {
   "cell_type": "code",
   "execution_count": null,
   "metadata": {
    "execution": {
     "iopub.execute_input": "2021-09-05T08:45:57.608977Z",
     "iopub.status.busy": "2021-09-05T08:45:57.608485Z",
     "iopub.status.idle": "2021-09-05T08:45:57.620068Z",
     "shell.execute_reply": "2021-09-05T08:45:57.618801Z",
     "shell.execute_reply.started": "2021-09-05T08:45:57.608923Z"
    }
   },
   "outputs": [],
   "source": [
    "\n",
    "#0= bad review\n",
    "#1= good review\n",
    "\n",
    "res=naive_bayes_classifier.predict(test_input)[0]\n",
    "\n",
    "if res==1:\n",
    "    print(\"Good Review\")\n",
    "    \n",
    "elif res==0:\n",
    "    print(\"Bad Review\")"
   ]
  },
  {
   "cell_type": "code",
   "execution_count": null,
   "metadata": {},
   "outputs": [],
   "source": []
  }
 ],
 "metadata": {
  "kernelspec": {
   "display_name": "Python 3 (ipykernel)",
   "language": "python",
   "name": "python3"
  },
  "language_info": {
   "codemirror_mode": {
    "name": "ipython",
    "version": 3
   },
   "file_extension": ".py",
   "mimetype": "text/x-python",
   "name": "python",
   "nbconvert_exporter": "python",
   "pygments_lexer": "ipython3",
   "version": "3.11.1"
  }
 },
 "nbformat": 4,
 "nbformat_minor": 4
}
